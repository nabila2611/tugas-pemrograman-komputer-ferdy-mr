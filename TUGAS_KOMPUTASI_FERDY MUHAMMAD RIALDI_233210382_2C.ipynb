{
 "cells": [
  {
   "cell_type": "markdown",
   "id": "81266ad6",
   "metadata": {},
   "source": [
    "# 1. menghitung volume reservoir"
   ]
  },
  {
   "cell_type": "code",
   "execution_count": 2,
   "id": "8dc222c7",
   "metadata": {},
   "outputs": [
    {
     "name": "stdout",
     "output_type": "stream",
     "text": [
      "r :  63.0 meter\n",
      "h :  15.0 meter\n",
      "volume reservoir = 3.14 * r ** 2 * h:\n",
      "volume reservoir =  186939.9 meter kubik\n"
     ]
    }
   ],
   "source": [
    "# Input\n",
    "r = float(input(\"radius = \"))\n",
    "h = float(input(\"tinggi = \"))\n",
    "\n",
    "# Proses menghitung volume reservoir\n",
    "volume = 3.14 * r ** 2 * h\n",
    "\n",
    "# output volume reservoir\n",
    "print(\"r : \", (r), \"meter\")\n",
    "print(\"h : \",(h), \"meter\")\n",
    "print(\"volume reservoir = 3.14 * r ** 2 * h:\")\n",
    "print(f\"volume reservoir = {volume: } meter kubik\")"
   ]
  },
  {
   "cell_type": "markdown",
   "id": "91e32408",
   "metadata": {},
   "source": [
    "# 2. menghitung porositas"
   ]
  },
  {
   "cell_type": "code",
   "execution_count": 3,
   "id": "e6f9ce2f",
   "metadata": {},
   "outputs": [
    {
     "name": "stdout",
     "output_type": "stream",
     "text": [
      "vp :  50.0\n",
      "vb :  10.0\n",
      "fluks = vp/vb*100\n",
      "fluks = 500.0 meter kubik\n"
     ]
    }
   ],
   "source": [
    "# Input\n",
    "vp = float(input(\"vp = \"))\n",
    "vb = float(input(\"vb = \"))\n",
    "\n",
    "# Proses menghitung porositas\n",
    "fluks = vp/vb*100\n",
    "\n",
    "# output volume reservoir\n",
    "print(\"vp : \", (vp))\n",
    "print(\"vb : \",(vb))\n",
    "print(\"fluks = vp/vb*100\")\n",
    "print(f\"fluks = {fluks:} meter kubik\")"
   ]
  },
  {
   "cell_type": "markdown",
   "id": "8f6d160a",
   "metadata": {},
   "source": [
    "# 3. Menghitung Laju Alir Minyak"
   ]
  },
  {
   "cell_type": "code",
   "execution_count": 77,
   "id": "6279d883",
   "metadata": {},
   "outputs": [
    {
     "name": "stdout",
     "output_type": "stream",
     "text": [
      "v :  125 barel\n",
      "t :  11 jam\n",
      "Q = v/t\n",
      "Q = 11.364 barel per jam\n"
     ]
    }
   ],
   "source": [
    "# Input\n",
    "v = int(input(\"volume = \"))\n",
    "t = int(input(\"tinggi = \"))\n",
    "\n",
    "# Proses menghitung laju alir minyak\n",
    "Q = v/t\n",
    "\n",
    "# output volume reservoir\n",
    "print(\"v : \", (v), \"barel\")\n",
    "print(\"t : \",(t), \"jam\")\n",
    "print(\"Q = v/t\")\n",
    "print(\"Q = %.3f\" %(Q), \"barel per jam\")"
   ]
  },
  {
   "cell_type": "markdown",
   "id": "7ed8d4b2",
   "metadata": {},
   "source": [
    "# 4. Menghitung Faktor Pemulihan (Recovery Factor) dengan Material Balance Equation"
   ]
  },
  {
   "cell_type": "code",
   "execution_count": 85,
   "id": "a90689bc",
   "metadata": {},
   "outputs": [
    {
     "name": "stdout",
     "output_type": "stream",
     "text": [
      "Np :  1600 barel\n",
      "N :  200 barel\n",
      "RF = Np/N+(0.1/N)\n",
      "RF = 8.0005 meter kubik\n"
     ]
    }
   ],
   "source": [
    "# Input\n",
    "Np = int(input(\"jumlah minyak diproduksi = \"))\n",
    "N = int(input(\"jumlah minyak awal = \"))\n",
    "\n",
    "# Proses Menghitung Faktor Pemulihan (Recovery Factor) Dengan Material Balance Equation\n",
    "RF = Np/N+(0.1/N)\n",
    "\n",
    "# output volume reservoir\n",
    "print(\"Np : \", (Np), \"barel\")\n",
    "print(\"N : \",(N), \"barel\")\n",
    "print(\"RF = Np/N+(0.1/N)\")\n",
    "print(\"RF = %.4f\" %(RF), \"meter kubik\")"
   ]
  },
  {
   "cell_type": "markdown",
   "id": "e5732e5e",
   "metadata": {},
   "source": [
    "# 5. menghitung permeabilitas efektif"
   ]
  },
  {
   "cell_type": "code",
   "execution_count": 83,
   "id": "e436db51",
   "metadata": {},
   "outputs": [
    {
     "name": "stdout",
     "output_type": "stream",
     "text": [
      "krw :  0.6\n",
      "Sw :  0.8\n",
      "Sor :  0.4\n",
      "kr=krw*(Sw**2)*(1-Sor-Sw)**2:\n",
      "kr = 0.015360 meter kubik\n"
     ]
    }
   ],
   "source": [
    "# Input\n",
    "krw = float(input(\"permeabilitas relatif air = \"))\n",
    "Sw = float(input(\"saturasi air = \"))\n",
    "Sor = float(input(\"saturasi minyak residual = \"))\n",
    "\n",
    "# Proses Menghitung Permeabilitas Efektif\n",
    "kr=krw*(Sw**2)*(1-Sor-Sw)**2\n",
    "\n",
    "# output volume reservoir\n",
    "print(\"krw : \", (krw))\n",
    "print(\"Sw : \",(Sw))\n",
    "print(\"Sor : \",(Sor))\n",
    "print(\"kr=krw*(Sw**2)*(1-Sor-Sw)**2:\")\n",
    "print(f\"kr = {kr:2f} meter kubik\")"
   ]
  },
  {
   "cell_type": "code",
   "execution_count": null,
   "id": "c8fa83b5",
   "metadata": {},
   "outputs": [],
   "source": []
  }
 ],
 "metadata": {
  "kernelspec": {
   "display_name": "Python 3 (ipykernel)",
   "language": "python",
   "name": "python3"
  },
  "language_info": {
   "codemirror_mode": {
    "name": "ipython",
    "version": 3
   },
   "file_extension": ".py",
   "mimetype": "text/x-python",
   "name": "python",
   "nbconvert_exporter": "python",
   "pygments_lexer": "ipython3",
   "version": "3.12.2"
  }
 },
 "nbformat": 4,
 "nbformat_minor": 5
}
